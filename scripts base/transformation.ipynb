{
 "cells": [
  {
   "cell_type": "markdown",
   "metadata": {},
   "source": [
    "### Este arquivo servirá como base para as transformações na etapa de ETL\n"
   ]
  },
  {
   "cell_type": "markdown",
   "metadata": {},
   "source": [
    "#### Leitura dos dados"
   ]
  },
  {
   "cell_type": "code",
   "execution_count": 89,
   "metadata": {},
   "outputs": [],
   "source": [
    "import pandas as pd"
   ]
  },
  {
   "cell_type": "code",
   "execution_count": 90,
   "metadata": {},
   "outputs": [],
   "source": [
    "dfRaw = pd.read_csv(\"https://raw.githubusercontent.com/FelipeMMMendes/Projeto-Data-WareHouse/main/data/Base%20table/raw_data.csv\",delimiter=\";\")"
   ]
  },
  {
   "cell_type": "code",
   "execution_count": 91,
   "metadata": {},
   "outputs": [
    {
     "data": {
      "text/html": [
       "<div>\n",
       "<style scoped>\n",
       "    .dataframe tbody tr th:only-of-type {\n",
       "        vertical-align: middle;\n",
       "    }\n",
       "\n",
       "    .dataframe tbody tr th {\n",
       "        vertical-align: top;\n",
       "    }\n",
       "\n",
       "    .dataframe thead th {\n",
       "        text-align: right;\n",
       "    }\n",
       "</style>\n",
       "<table border=\"1\" class=\"dataframe\">\n",
       "  <thead>\n",
       "    <tr style=\"text-align: right;\">\n",
       "      <th></th>\n",
       "      <th>Sigla ICAO Empresa Aérea</th>\n",
       "      <th>Número Voo</th>\n",
       "      <th>Código DI</th>\n",
       "      <th>Código Tipo Linha</th>\n",
       "      <th>Sigla ICAO Aeroporto Origem</th>\n",
       "      <th>Partida Prevista</th>\n",
       "      <th>Partida Real</th>\n",
       "      <th>Sigla ICAO Aeroporto Destino</th>\n",
       "      <th>Chegada Prevista</th>\n",
       "      <th>Chegada Real</th>\n",
       "      <th>Situação Voo</th>\n",
       "    </tr>\n",
       "  </thead>\n",
       "  <tbody>\n",
       "    <tr>\n",
       "      <th>0</th>\n",
       "      <td>AAL</td>\n",
       "      <td>904</td>\n",
       "      <td>0</td>\n",
       "      <td>I</td>\n",
       "      <td>SBGL</td>\n",
       "      <td>01/10/2023 23:00</td>\n",
       "      <td>01/10/2023 22:49</td>\n",
       "      <td>KMIA</td>\n",
       "      <td>02/10/2023 07:42</td>\n",
       "      <td>02/10/2023 06:47</td>\n",
       "      <td>REALIZADO</td>\n",
       "    </tr>\n",
       "    <tr>\n",
       "      <th>1</th>\n",
       "      <td>AAL</td>\n",
       "      <td>905</td>\n",
       "      <td>0</td>\n",
       "      <td>I</td>\n",
       "      <td>KMIA</td>\n",
       "      <td>01/10/2023 23:52</td>\n",
       "      <td>01/10/2023 23:58</td>\n",
       "      <td>SBGL</td>\n",
       "      <td>02/10/2023 08:05</td>\n",
       "      <td>02/10/2023 08:02</td>\n",
       "      <td>REALIZADO</td>\n",
       "    </tr>\n",
       "    <tr>\n",
       "      <th>2</th>\n",
       "      <td>AAL</td>\n",
       "      <td>906</td>\n",
       "      <td>0</td>\n",
       "      <td>I</td>\n",
       "      <td>SBGR</td>\n",
       "      <td>01/10/2023 23:15</td>\n",
       "      <td>01/10/2023 23:08</td>\n",
       "      <td>KMIA</td>\n",
       "      <td>02/10/2023 07:47</td>\n",
       "      <td>02/10/2023 07:14</td>\n",
       "      <td>REALIZADO</td>\n",
       "    </tr>\n",
       "    <tr>\n",
       "      <th>3</th>\n",
       "      <td>AAL</td>\n",
       "      <td>929</td>\n",
       "      <td>0</td>\n",
       "      <td>I</td>\n",
       "      <td>KMIA</td>\n",
       "      <td>01/10/2023 20:53</td>\n",
       "      <td>01/10/2023 20:52</td>\n",
       "      <td>SBGR</td>\n",
       "      <td>02/10/2023 05:15</td>\n",
       "      <td>02/10/2023 05:10</td>\n",
       "      <td>REALIZADO</td>\n",
       "    </tr>\n",
       "    <tr>\n",
       "      <th>4</th>\n",
       "      <td>AAL</td>\n",
       "      <td>930</td>\n",
       "      <td>0</td>\n",
       "      <td>I</td>\n",
       "      <td>SBGR</td>\n",
       "      <td>01/10/2023 21:25</td>\n",
       "      <td>01/10/2023 21:21</td>\n",
       "      <td>KMIA</td>\n",
       "      <td>02/10/2023 06:00</td>\n",
       "      <td>02/10/2023 05:21</td>\n",
       "      <td>REALIZADO</td>\n",
       "    </tr>\n",
       "  </tbody>\n",
       "</table>\n",
       "</div>"
      ],
      "text/plain": [
       "  Sigla ICAO Empresa Aérea Número Voo Código DI Código Tipo Linha  \\\n",
       "0                      AAL        904         0                 I   \n",
       "1                      AAL        905         0                 I   \n",
       "2                      AAL        906         0                 I   \n",
       "3                      AAL        929         0                 I   \n",
       "4                      AAL        930         0                 I   \n",
       "\n",
       "  Sigla ICAO Aeroporto Origem  Partida Prevista      Partida Real  \\\n",
       "0                        SBGL  01/10/2023 23:00  01/10/2023 22:49   \n",
       "1                        KMIA  01/10/2023 23:52  01/10/2023 23:58   \n",
       "2                        SBGR  01/10/2023 23:15  01/10/2023 23:08   \n",
       "3                        KMIA  01/10/2023 20:53  01/10/2023 20:52   \n",
       "4                        SBGR  01/10/2023 21:25  01/10/2023 21:21   \n",
       "\n",
       "  Sigla ICAO Aeroporto Destino  Chegada Prevista      Chegada Real  \\\n",
       "0                         KMIA  02/10/2023 07:42  02/10/2023 06:47   \n",
       "1                         SBGL  02/10/2023 08:05  02/10/2023 08:02   \n",
       "2                         KMIA  02/10/2023 07:47  02/10/2023 07:14   \n",
       "3                         SBGR  02/10/2023 05:15  02/10/2023 05:10   \n",
       "4                         KMIA  02/10/2023 06:00  02/10/2023 05:21   \n",
       "\n",
       "  Situação Voo  \n",
       "0    REALIZADO  \n",
       "1    REALIZADO  \n",
       "2    REALIZADO  \n",
       "3    REALIZADO  \n",
       "4    REALIZADO  "
      ]
     },
     "execution_count": 91,
     "metadata": {},
     "output_type": "execute_result"
    }
   ],
   "source": [
    "dfRaw.head()"
   ]
  },
  {
   "cell_type": "code",
   "execution_count": 92,
   "metadata": {},
   "outputs": [
    {
     "name": "stdout",
     "output_type": "stream",
     "text": [
      "<class 'pandas.core.frame.DataFrame'>\n",
      "RangeIndex: 82820 entries, 0 to 82819\n",
      "Data columns (total 11 columns):\n",
      " #   Column                        Non-Null Count  Dtype \n",
      "---  ------                        --------------  ----- \n",
      " 0   Sigla ICAO Empresa Aérea      82820 non-null  object\n",
      " 1   Número Voo                    82820 non-null  object\n",
      " 2   Código DI                     82820 non-null  object\n",
      " 3   Código Tipo Linha             82820 non-null  object\n",
      " 4   Sigla ICAO Aeroporto Origem   82820 non-null  object\n",
      " 5   Partida Prevista              79462 non-null  object\n",
      " 6   Partida Real                  76825 non-null  object\n",
      " 7   Sigla ICAO Aeroporto Destino  82820 non-null  object\n",
      " 8   Chegada Prevista              79462 non-null  object\n",
      " 9   Chegada Real                  76826 non-null  object\n",
      " 10  Situação Voo                  82820 non-null  object\n",
      "dtypes: object(11)\n",
      "memory usage: 7.0+ MB\n"
     ]
    }
   ],
   "source": [
    "dfRaw.info()"
   ]
  },
  {
   "cell_type": "code",
   "execution_count": 109,
   "metadata": {},
   "outputs": [],
   "source": [
    "#convertendo as colunas de partida e chegada para datetime\n",
    "dfRaw['Partida Prevista'] = pd.to_datetime(dfRaw['Partida Prevista'], format='%d/%m/%Y %H:%M')\n",
    "dfRaw['Partida Real'] = pd.to_datetime(dfRaw['Partida Prevista'], format='%d/%m/%Y %H:%M')\n",
    "dfRaw['Chegada Prevista'] = pd.to_datetime(dfRaw['Chegada Prevista'], format='%d/%m/%Y %H:%M')\n",
    "dfRaw['Chegada Real'] = pd.to_datetime(dfRaw['Chegada Real'], format='%d/%m/%Y %H:%M')"
   ]
  },
  {
   "cell_type": "code",
   "execution_count": 110,
   "metadata": {},
   "outputs": [
    {
     "name": "stdout",
     "output_type": "stream",
     "text": [
      "<class 'pandas.core.frame.DataFrame'>\n",
      "RangeIndex: 82820 entries, 0 to 82819\n",
      "Data columns (total 20 columns):\n",
      " #   Column                        Non-Null Count  Dtype          \n",
      "---  ------                        --------------  -----          \n",
      " 0   Sigla ICAO Empresa Aérea      82820 non-null  object         \n",
      " 1   Número Voo                    82820 non-null  object         \n",
      " 2   Código DI                     82820 non-null  object         \n",
      " 3   Código Tipo Linha             82820 non-null  object         \n",
      " 4   Sigla ICAO Aeroporto Origem   82820 non-null  object         \n",
      " 5   Partida Prevista              79462 non-null  datetime64[ns] \n",
      " 6   Partida Real                  79462 non-null  datetime64[ns] \n",
      " 7   Sigla ICAO Aeroporto Destino  82820 non-null  object         \n",
      " 8   Chegada Prevista              79462 non-null  datetime64[ns] \n",
      " 9   Chegada Real                  76826 non-null  datetime64[ns] \n",
      " 10  Situação Voo                  82820 non-null  object         \n",
      " 11  dia partida prevista          79462 non-null  float64        \n",
      " 12  mes partida prevista          79462 non-null  float64        \n",
      " 13  ano partida prevista          79462 non-null  float64        \n",
      " 14  horario partida prevista      79462 non-null  object         \n",
      " 15  dia partida real              76825 non-null  float64        \n",
      " 16  mes partida real              76825 non-null  float64        \n",
      " 17  ano partida real              76825 non-null  float64        \n",
      " 18  horario partida real          76825 non-null  object         \n",
      " 19  SLA                           73468 non-null  timedelta64[ns]\n",
      "dtypes: datetime64[ns](4), float64(6), object(9), timedelta64[ns](1)\n",
      "memory usage: 12.6+ MB\n"
     ]
    }
   ],
   "source": [
    "dfRaw.info()"
   ]
  },
  {
   "cell_type": "code",
   "execution_count": null,
   "metadata": {},
   "outputs": [],
   "source": [
    "#criando um identificador para cada voo\n",
    "#eh um codigo no formato\n",
    "# dois digitos do mês + dia + numero voo"
   ]
  },
  {
   "cell_type": "code",
   "execution_count": null,
   "metadata": {},
   "outputs": [],
   "source": [
    "#criar também uma coluna de calculo de SLA,\n",
    "#se o horario da partida real tiver sido mais tarde do que o horario da partida prevista, fazer a diferença e contabilizar no SLA\n",
    "#fazendo a diferença entre horario da partida real - horario da partida prevista\n",
    "#depois tirar a media"
   ]
  }
 ],
 "metadata": {
  "kernelspec": {
   "display_name": "Python 3",
   "language": "python",
   "name": "python3"
  },
  "language_info": {
   "codemirror_mode": {
    "name": "ipython",
    "version": 3
   },
   "file_extension": ".py",
   "mimetype": "text/x-python",
   "name": "python",
   "nbconvert_exporter": "python",
   "pygments_lexer": "ipython3",
   "version": "3.11.6"
  }
 },
 "nbformat": 4,
 "nbformat_minor": 2
}
